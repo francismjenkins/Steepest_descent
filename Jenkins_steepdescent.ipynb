{
 "cells": [
  {
   "cell_type": "code",
   "execution_count": 128,
   "metadata": {},
   "outputs": [],
   "source": [
    "# Optimal gradient steepest descent method\n",
    "# Problem 14.8 (Numerical Methods for Engineers, Chapra & Canale, 6th edition)\n",
    "# Author: Frank Jenkins\n",
    "\n",
    "from sympy import *\n",
    "import numpy as np\n",
    "\n",
    "def func(x, y): \n",
    "    return -8.0*x+x**2.0+12.0*y+4.0*y**2.0-2.0*x*y\n",
    "  \n",
    "# Negative partial derivative wrt x  \n",
    "def dx(x,y): \n",
    "    dx = 8 - 2*x + 2*y\n",
    "    return dx\n",
    "\n",
    "# Negative partial derivative wrt y\n",
    "def dy(x, y):\n",
    "    dy = 2*x - 8*y - 12\n",
    "    return dy\n",
    "\n",
    "# The values (analytical solution) of the first derivatives set equal to zero\n",
    "# x = 10/3 = 3.3333333... and y = -2/3 = -0.66666666...\n",
    "\n"
   ]
  },
  {
   "cell_type": "code",
   "execution_count": 127,
   "metadata": {},
   "outputs": [
    {
     "name": "stdout",
     "output_type": "stream",
     "text": [
      "(3.333333333333332, -0.666666666666667)\n"
     ]
    }
   ],
   "source": [
    "h = Symbol('h')\n",
    "\n",
    "x = 0\n",
    "y = 0\n",
    "\n",
    "def gradientdescent(x, y):\n",
    "    for i in range(1000):\n",
    "        gradx, grady = dx(x1, y1)*h, dy(x1, y1)*h\n",
    "        g = func(gradx, grady)\n",
    "        dg = g.diff(h)\n",
    "        d = solve(dg, h)\n",
    "        e = np.array(d)\n",
    "        m = float(e)\n",
    "        x = x + dx(x, y)*m\n",
    "        y = y + dy(x, y)*m\n",
    "    return(x, y)\n",
    "\n",
    "print(gradientdescent(x, y))"
   ]
  },
  {
   "cell_type": "code",
   "execution_count": null,
   "metadata": {},
   "outputs": [],
   "source": []
  }
 ],
 "metadata": {
  "kernelspec": {
   "display_name": "Python 3",
   "language": "python",
   "name": "python3"
  },
  "language_info": {
   "codemirror_mode": {
    "name": "ipython",
    "version": 3
   },
   "file_extension": ".py",
   "mimetype": "text/x-python",
   "name": "python",
   "nbconvert_exporter": "python",
   "pygments_lexer": "ipython3",
   "version": "3.6.5"
  }
 },
 "nbformat": 4,
 "nbformat_minor": 2
}
